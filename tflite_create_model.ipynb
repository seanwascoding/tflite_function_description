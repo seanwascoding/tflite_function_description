{
  "nbformat": 4,
  "nbformat_minor": 0,
  "metadata": {
    "colab": {
      "provenance": [],
      "gpuType": "T4"
    },
    "kernelspec": {
      "name": "python3",
      "display_name": "Python 3"
    },
    "language_info": {
      "name": "python"
    },
    "accelerator": "GPU"
  },
  "cells": [
    {
      "cell_type": "code",
      "execution_count": null,
      "metadata": {
        "id": "tPG7NnmMCopb"
      },
      "outputs": [],
      "source": [
        "# Download and install and update miniconda\n",
        "!wget https://repo.anaconda.com/miniconda/Miniconda3-py39_23.3.1-0-Linux-x86_64.sh\n",
        "!chmod +x Miniconda3-py39_23.3.1-0-Linux-x86_64.sh\n",
        "!./Miniconda3-py39_23.3.1-0-Linux-x86_64.sh -b -f -p /usr/local\n",
        "!conda update -q conda"
      ]
    },
    {
      "cell_type": "code",
      "source": [
        "import sys\n",
        "sys.path.append('/usr/local/lib/python3.9/site-packages')"
      ],
      "metadata": {
        "id": "rMBiBKTQCsdC"
      },
      "execution_count": null,
      "outputs": []
    },
    {
      "cell_type": "code",
      "source": [
        "# Create conda environment with python 3.9\n",
        "!conda create -n myenv python=3.9"
      ],
      "metadata": {
        "id": "zoIyLpPTC9bK"
      },
      "execution_count": null,
      "outputs": []
    },
    {
      "cell_type": "code",
      "source": [
        "# Upload your own train.py or download this existing one\n",
        "!wget https://raw.githubusercontent.com/wwfish/tflite-model-maker/main/train.py"
      ],
      "metadata": {
        "id": "18KBiWaUC--r"
      },
      "execution_count": null,
      "outputs": []
    },
    {
      "cell_type": "code",
      "source": [
        "# Download and Unzip Files\n",
        "!wget https://storage.googleapis.com/download.tensorflow.org/data/android_figurine.zip\n",
        "!unzip -q android_figurine.zip"
      ],
      "metadata": {
        "id": "36qI_PKgDHgX"
      },
      "execution_count": null,
      "outputs": []
    },
    {
      "cell_type": "code",
      "source": [
        "# Install dependencies in the new environment. You need to force acitvate conda everytime\n",
        "%%shell\n",
        "eval \"$(conda shell.bash hook)\"\n",
        "conda activate myenv\n",
        "pip install -q tflite-model-maker\n",
        "pip3 install -q pycocotools\n",
        "pip install -q ipykernel\n",
        "pip install -q numpy==1.23.4"
      ],
      "metadata": {
        "id": "2ki3xKd8DJvU"
      },
      "execution_count": null,
      "outputs": []
    },
    {
      "cell_type": "code",
      "source": [
        "# Run your training and eval script as an external python script\n",
        "%%shell\n",
        "eval \"$(conda shell.bash hook)\"\n",
        "conda activate myenv\n",
        "python /content/train.py"
      ],
      "metadata": {
        "id": "1KjaTy-JDPWp"
      },
      "execution_count": null,
      "outputs": []
    }
  ]
}